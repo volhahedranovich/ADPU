{
 "cells": [
  {
   "cell_type": "markdown",
   "metadata": {},
   "source": [
    "<small><i>This notebook was put together by [Alexander Fridman](http://www.rocketscience.ai) for the Lecture Course. Source and license info is on [GitHub](https://github.com/volhahedranovich/jupyter_lectures).</i></small>"
   ]
  },
  {
   "cell_type": "markdown",
   "metadata": {},
   "source": [
    "# <div class=\"alert alert-block alert-info\">Image Classification with Convolutional Networks</div>"
   ]
  },
  {
   "cell_type": "code",
   "execution_count": null,
   "metadata": {
    "ExecuteTime": {
     "end_time": "2018-03-01T11:45:45.737101Z",
     "start_time": "2018-03-01T11:45:44.808267Z"
    }
   },
   "outputs": [],
   "source": [
    "import os\n",
    "import shutil\n",
    "\n",
    "import keras\n",
    "import keras.backend as K\n",
    "import numpy as np\n",
    "import pandas as pd\n",
    "from keras.applications.inception_v3 import InceptionV3, preprocess_input\n",
    "from keras.datasets import cifar10, mnist\n",
    "from keras.preprocessing.image import ImageDataGenerator\n",
    "from keras.models import Sequential, Model\n",
    "from keras.layers import Dense, Dropout, Activation, Flatten\n",
    "from keras.layers import Conv2D, MaxPooling2D, GlobalAveragePooling2D\n",
    "\n",
    "%matplotlib inline"
   ]
  },
  {
   "cell_type": "markdown",
   "metadata": {},
   "source": [
    "### <div class=\"alert alert-block alert-success\">Datasets</div>\n",
    "\n",
    "CIFAR10\n",
    "<img src=\"img/cifar10.png\" alt=\"cifar10\" title=\"cifar10\" />\n",
    "\n",
    "MNIST\n",
    "<img src=\"img/mnist.png\" width=\"350px\" height=\"350px\" alt=\"mnist\" title=\"mnist\" />"
   ]
  },
  {
   "cell_type": "markdown",
   "metadata": {},
   "source": [
    "### <div class=\"alert alert-block alert-success\">Load a dataset</div>"
   ]
  },
  {
   "cell_type": "code",
   "execution_count": null,
   "metadata": {
    "ExecuteTime": {
     "end_time": "2018-03-01T11:45:45.742970Z",
     "start_time": "2018-03-01T11:45:45.741438Z"
    },
    "collapsed": true
   },
   "outputs": [],
   "source": [
    "DATASET = 'mnist'"
   ]
  },
  {
   "cell_type": "code",
   "execution_count": null,
   "metadata": {
    "ExecuteTime": {
     "end_time": "2018-03-01T11:45:46.394603Z",
     "start_time": "2018-03-01T11:45:45.982783Z"
    }
   },
   "outputs": [],
   "source": [
    "assert DATASET in {'mnist', 'cifar10'}, 'wrong dataset'\n",
    "\n",
    "if DATASET == 'mnist':\n",
    "    n_channels = 1\n",
    "    dataset_loader = mnist.load_data\n",
    "    batch_size = 128\n",
    "elif DATASET == 'cifar10':\n",
    "    n_channels = 3\n",
    "    dataset_loader = cifar10.load_data\n",
    "    batch_size = 32\n",
    "    \n",
    "\n",
    "def load_data():\n",
    "    (x_train, y_train), (x_test, y_test) = dataset_loader()\n",
    "    num_classes = len(np.unique(y_train))\n",
    "    _, img_rows, img_cols, *_ = x_train.shape\n",
    "\n",
    "    if K.image_data_format() == 'channels_first':\n",
    "        x_train = x_train.reshape(x_train.shape[0], n_channels, img_rows, img_cols)\n",
    "        x_test = x_test.reshape(x_test.shape[0], n_channels, img_rows, img_cols)\n",
    "        input_shape = (n_channels, img_rows, img_cols)\n",
    "    else:\n",
    "        x_train = x_train.reshape(x_train.shape[0], img_rows, img_cols, n_channels)\n",
    "        x_test = x_test.reshape(x_test.shape[0], img_rows, img_cols, n_channels)\n",
    "        input_shape = (img_rows, img_cols, n_channels)\n",
    "        \n",
    "    x_train = x_train.astype('float32')\n",
    "    x_test = x_test.astype('float32')\n",
    "\n",
    "    return (x_train, y_train), (x_test, y_test), num_classes, input_shape\n",
    "\n",
    "\n",
    "(x_train, y_train), (x_test, y_test), num_classes, input_shape = load_data()\n",
    "print('x_train shape:', x_train.shape)\n",
    "print(x_train.shape[0], 'train samples')\n",
    "print(x_test.shape[0], 'test samples')"
   ]
  },
  {
   "cell_type": "markdown",
   "metadata": {},
   "source": [
    "### <div class=\"alert alert-block alert-success\">Convert class vectors to binary class matrices</div>"
   ]
  },
  {
   "cell_type": "code",
   "execution_count": null,
   "metadata": {
    "ExecuteTime": {
     "end_time": "2018-03-01T11:45:47.500255Z",
     "start_time": "2018-03-01T11:45:47.486426Z"
    },
    "collapsed": true
   },
   "outputs": [],
   "source": [
    "y_train = keras.utils.to_categorical(y_train, num_classes)\n",
    "y_test = keras.utils.to_categorical(y_test, num_classes)"
   ]
  },
  {
   "cell_type": "markdown",
   "metadata": {},
   "source": [
    "### <div class=\"alert alert-block alert-success\">Build a model</div>"
   ]
  },
  {
   "cell_type": "code",
   "execution_count": null,
   "metadata": {
    "ExecuteTime": {
     "end_time": "2018-03-01T11:45:48.531231Z",
     "start_time": "2018-03-01T11:45:48.473892Z"
    },
    "collapsed": true
   },
   "outputs": [],
   "source": [
    "def cifar10_cnn(input_shape, num_classes):\n",
    "    model = Sequential()\n",
    "    \n",
    "    model.add(Conv2D(32, (3, 3), padding='same',\n",
    "                     input_shape=input_shape))\n",
    "    model.add(Activation('relu'))\n",
    "    model.add(Conv2D(32, (3, 3)))\n",
    "    model.add(Activation('relu'))\n",
    "    model.add(MaxPooling2D(pool_size=(2, 2)))\n",
    "    model.add(Dropout(0.25))\n",
    "\n",
    "    model.add(Conv2D(64, (3, 3), padding='same'))\n",
    "    model.add(Activation('relu'))\n",
    "    model.add(Conv2D(64, (3, 3)))\n",
    "    model.add(Activation('relu'))\n",
    "    model.add(MaxPooling2D(pool_size=(2, 2)))\n",
    "    model.add(Dropout(0.25))\n",
    "\n",
    "    model.add(Flatten())\n",
    "    model.add(Dense(512))\n",
    "    model.add(Activation('relu'))\n",
    "    model.add(Dropout(0.5))\n",
    "    model.add(Dense(num_classes))\n",
    "    model.add(Activation('softmax'))\n",
    "    \n",
    "    # initiate RMSprop optimizer\n",
    "    opt = keras.optimizers.rmsprop(lr=0.0001, decay=1e-6)\n",
    "\n",
    "    return model, opt\n",
    "\n",
    "\n",
    "def mnist_cnn(input_shape, num_classes):\n",
    "    model = Sequential()\n",
    "    \n",
    "    model.add(Conv2D(32, kernel_size=(3, 3),\n",
    "                     activation='relu',\n",
    "                     input_shape=input_shape))\n",
    "    model.add(Conv2D(64, (3, 3), activation='relu'))\n",
    "    model.add(MaxPooling2D(pool_size=(2, 2)))\n",
    "    model.add(Dropout(0.25))\n",
    "    model.add(Flatten())\n",
    "    model.add(Dense(128, activation='relu'))\n",
    "    model.add(Dropout(0.5))\n",
    "    model.add(Dense(num_classes, activation='softmax'))\n",
    "    \n",
    "    return model, 'adadelta'"
   ]
  },
  {
   "cell_type": "code",
   "execution_count": null,
   "metadata": {
    "ExecuteTime": {
     "end_time": "2018-03-01T11:45:49.285298Z",
     "start_time": "2018-03-01T11:45:49.202978Z"
    }
   },
   "outputs": [],
   "source": [
    "model, opt = globals()['{}_cnn'.format(DATASET)](input_shape, num_classes)\n",
    "\n",
    "model.compile(loss='categorical_crossentropy',\n",
    "              optimizer=opt,\n",
    "              metrics=['accuracy'])\n",
    "\n",
    "model.summary()"
   ]
  },
  {
   "cell_type": "markdown",
   "metadata": {},
   "source": [
    "### <div class=\"alert alert-block alert-success\">Setup image data generator (data augmentation)</div>"
   ]
  },
  {
   "cell_type": "code",
   "execution_count": null,
   "metadata": {
    "ExecuteTime": {
     "end_time": "2018-03-01T11:45:50.506917Z",
     "start_time": "2018-03-01T11:45:50.424960Z"
    },
    "collapsed": true
   },
   "outputs": [],
   "source": [
    "x_train /= 255\n",
    "x_test /= 255"
   ]
  },
  {
   "cell_type": "code",
   "execution_count": null,
   "metadata": {
    "ExecuteTime": {
     "end_time": "2018-03-01T11:45:51.268336Z",
     "start_time": "2018-03-01T11:45:51.021429Z"
    },
    "collapsed": true
   },
   "outputs": [],
   "source": [
    "datagen = ImageDataGenerator(\n",
    "    featurewise_center=False,  # set input mean to 0 over the dataset\n",
    "    samplewise_center=False,  # set each sample mean to 0\n",
    "    featurewise_std_normalization=False,  # divide inputs by std of the dataset\n",
    "    samplewise_std_normalization=False,  # divide each input by its std\n",
    "    zca_whitening=False,  # apply ZCA whitening\n",
    "    rotation_range=0,  # randomly rotate images in the range (degrees, 0 to 180)\n",
    "    width_shift_range=0.,  # randomly shift images horizontally (fraction of total width)\n",
    "    height_shift_range=0.,  # randomly shift images vertically (fraction of total height)\n",
    "    horizontal_flip=False,  # randomly flip images\n",
    "    vertical_flip=False)  # randomly flip images\n",
    "\n",
    "# Compute quantities required for feature-wise normalization\n",
    "# (std, mean, and principal components if ZCA whitening is applied).\n",
    "datagen.fit(x_train)"
   ]
  },
  {
   "cell_type": "markdown",
   "metadata": {},
   "source": [
    "### <div class=\"alert alert-block alert-success\">Train the model</div>"
   ]
  },
  {
   "cell_type": "code",
   "execution_count": null,
   "metadata": {
    "ExecuteTime": {
     "end_time": "2018-03-01T11:46:01.194659Z",
     "start_time": "2018-03-01T11:45:51.961484Z"
    }
   },
   "outputs": [],
   "source": [
    "shutil.rmtree('checkpoints', ignore_errors=True)\n",
    "os.makedirs('checkpoints')\n",
    "\n",
    "checkpointer = keras.callbacks.ModelCheckpoint('checkpoints/weights.{epoch:02d}-{val_loss:.2f}.hdf5')\n",
    "\n",
    "train_steps = len(x_train) // batch_size\n",
    "\n",
    "history = model.fit_generator(\n",
    "    datagen.flow(x_train, y_train, batch_size=batch_size),\n",
    "    steps_per_epoch=train_steps,\n",
    "    epochs=10,\n",
    "    callbacks=[checkpointer],\n",
    "    validation_data=(x_test, y_test),\n",
    "    use_multiprocessing=False,\n",
    "    workers=2)"
   ]
  },
  {
   "cell_type": "code",
   "execution_count": null,
   "metadata": {
    "ExecuteTime": {
     "end_time": "2018-03-01T10:25:54.164524Z",
     "start_time": "2018-03-01T10:25:53.914141Z"
    },
    "collapsed": true
   },
   "outputs": [],
   "source": [
    "history_df = pd.DataFrame(history.history)\n",
    "\n",
    "history_df[['loss', 'val_loss']].plot()\n",
    "history_df[['acc', 'val_acc']].plot();"
   ]
  },
  {
   "cell_type": "markdown",
   "metadata": {},
   "source": [
    "### <div class=\"alert alert-block alert-success\">Score the trained model</div>"
   ]
  },
  {
   "cell_type": "code",
   "execution_count": null,
   "metadata": {
    "ExecuteTime": {
     "end_time": "2018-03-01T10:25:57.353493Z",
     "start_time": "2018-03-01T10:25:56.834736Z"
    },
    "collapsed": true
   },
   "outputs": [],
   "source": [
    "scores = model.evaluate(x_test, y_test, verbose=1)\n",
    "print('Test loss:', scores[0])\n",
    "print('Test accuracy:', scores[1])"
   ]
  },
  {
   "cell_type": "markdown",
   "metadata": {},
   "source": [
    "# <div class=\"alert alert-block alert-info\">Model fine-tuning</div>\n",
    "\n",
    "*[More info about model fine-tuning with keras](https://keras.io/applications/)*"
   ]
  },
  {
   "cell_type": "markdown",
   "metadata": {},
   "source": [
    "### <div class=\"alert alert-block alert-success\">Load the data</div>"
   ]
  },
  {
   "cell_type": "code",
   "execution_count": null,
   "metadata": {
    "ExecuteTime": {
     "end_time": "2018-03-01T11:34:33.092293Z",
     "start_time": "2018-03-01T11:34:32.692348Z"
    },
    "collapsed": true
   },
   "outputs": [],
   "source": [
    "(x_train, y_train), (x_test, y_test), num_classes, input_shape = load_data()\n",
    "\n",
    "y_train = keras.utils.to_categorical(y_train, num_classes)\n",
    "y_test = keras.utils.to_categorical(y_test, num_classes)"
   ]
  },
  {
   "cell_type": "markdown",
   "metadata": {},
   "source": [
    "### <div class=\"alert alert-block alert-success\">Create the base pre-trained model</div>"
   ]
  },
  {
   "cell_type": "code",
   "execution_count": null,
   "metadata": {
    "ExecuteTime": {
     "end_time": "2018-03-01T11:34:56.363063Z",
     "start_time": "2018-03-01T11:34:33.685465Z"
    },
    "collapsed": true
   },
   "outputs": [],
   "source": [
    "base_model = InceptionV3(weights='imagenet', include_top=False)\n",
    "\n",
    "# add a global spatial average pooling layer\n",
    "x = base_model.output\n",
    "x = GlobalAveragePooling2D()(x)\n",
    "# let's add a fully-connected layer\n",
    "x = Dense(1024, activation='relu')(x)\n",
    "# and a logistic layer -- let's say we have num_classes classes\n",
    "predictions = Dense(num_classes, activation='softmax')(x)\n",
    "\n",
    "# this is the model we will train\n",
    "model = Model(inputs=base_model.input, outputs=predictions)"
   ]
  },
  {
   "cell_type": "markdown",
   "metadata": {},
   "source": [
    "### <div class=\"alert alert-block alert-success\">Preprocess data in the same way as used while base model was trained</div>"
   ]
  },
  {
   "cell_type": "code",
   "execution_count": null,
   "metadata": {
    "ExecuteTime": {
     "end_time": "2018-03-01T11:34:56.474191Z",
     "start_time": "2018-03-01T11:34:56.363869Z"
    },
    "collapsed": true
   },
   "outputs": [],
   "source": [
    "x_train = preprocess_input(x_train)\n",
    "x_test = preprocess_input(x_test)"
   ]
  },
  {
   "cell_type": "code",
   "execution_count": null,
   "metadata": {
    "ExecuteTime": {
     "start_time": "2018-03-01T11:34:18.039Z"
    },
    "collapsed": true
   },
   "outputs": [],
   "source": [
    "datagen = ImageDataGenerator(\n",
    "    featurewise_center=False,  # set input mean to 0 over the dataset\n",
    "    samplewise_center=False,  # set each sample mean to 0\n",
    "    featurewise_std_normalization=False,  # divide inputs by std of the dataset\n",
    "    samplewise_std_normalization=False,  # divide each input by its std\n",
    "    zca_whitening=False,  # apply ZCA whitening\n",
    "    rotation_range=0,  # randomly rotate images in the range (degrees, 0 to 180)\n",
    "    width_shift_range=0.,  # randomly shift images horizontally (fraction of total width)\n",
    "    height_shift_range=0.,  # randomly shift images vertically (fraction of total height)\n",
    "    horizontal_flip=False,  # randomly flip images\n",
    "    vertical_flip=False)  # randomly flip images\n",
    "\n",
    "# Compute quantities required for feature-wise normalization\n",
    "# (std, mean, and principal components if ZCA whitening is applied).\n",
    "datagen.fit(x_train)"
   ]
  },
  {
   "cell_type": "markdown",
   "metadata": {},
   "source": [
    "### <div class=\"alert alert-block alert-success\">Train only the top layers (which were randomly initialized)</div>"
   ]
  },
  {
   "cell_type": "code",
   "execution_count": null,
   "metadata": {
    "ExecuteTime": {
     "start_time": "2018-03-01T11:34:21.095Z"
    },
    "collapsed": true
   },
   "outputs": [],
   "source": [
    "# freeze all convolutional InceptionV3 layers\n",
    "for layer in base_model.layers:\n",
    "    layer.trainable = False\n",
    "\n",
    "# compile the model (should be done *after* setting layers to non-trainable)\n",
    "model.compile(optimizer='rmsprop', loss='categorical_crossentropy')\n",
    "\n",
    "train_steps = len(x_train) // batch_size\n",
    "\n",
    "# train the model on the new data for a few epochs\n",
    "model.fit_generator(\n",
    "    datagen.flow(x_train, y_train, batch_size=4),\n",
    "    steps_per_epoch=train_steps,\n",
    "    epochs=2,\n",
    "    validation_data=(x_test, y_test),\n",
    "    use_multiprocessing=True,\n",
    "    workers=2)"
   ]
  },
  {
   "cell_type": "markdown",
   "metadata": {},
   "source": [
    "> At this point, the top layers are well trained and we can start fine-tuning\n",
    "  convolutional layers from inception V3. We will freeze the bottom N layers\n",
    "  and train the remaining top layers."
   ]
  },
  {
   "cell_type": "code",
   "execution_count": null,
   "metadata": {
    "ExecuteTime": {
     "end_time": "2018-03-01T10:24:30.210463Z",
     "start_time": "2018-03-01T10:23:08.390Z"
    },
    "collapsed": true
   },
   "outputs": [],
   "source": [
    "# we chose to train the top 2 inception blocks, i.e. we will freeze\n",
    "# the first 249 layers and unfreeze the rest:\n",
    "for layer in model.layers[:249]:\n",
    "    layer.trainable = False\n",
    "for layer in model.layers[249:]:\n",
    "    layer.trainable = True\n",
    "\n",
    "# we need to recompile the model for these modifications to take effect\n",
    "# we use SGD with a low learning rate\n",
    "opt = keras.optimizers.SGD(lr=0.0001, momentum=0.9)\n",
    "model.compile(optimizer=opt, loss='categorical_crossentropy', metrics=['accuracy'])"
   ]
  },
  {
   "cell_type": "code",
   "execution_count": null,
   "metadata": {
    "ExecuteTime": {
     "end_time": "2018-03-01T10:24:30.210916Z",
     "start_time": "2018-03-01T10:23:10.161Z"
    },
    "collapsed": true
   },
   "outputs": [],
   "source": [
    "model.fit_generator(\n",
    "    datagen.flow(x_train, y_train, batch_size=4),\n",
    "    steps_per_epoch=train_steps,\n",
    "    epochs=10,\n",
    "    validation_data=(x_test, y_test),\n",
    "    use_multiprocessing=True,\n",
    "    workers=2)"
   ]
  },
  {
   "cell_type": "markdown",
   "metadata": {},
   "source": [
    "### <div class=\"alert alert-block alert-success\">Score the trained model</div>"
   ]
  },
  {
   "cell_type": "code",
   "execution_count": null,
   "metadata": {
    "ExecuteTime": {
     "end_time": "2018-03-01T10:24:30.211363Z",
     "start_time": "2018-03-01T10:23:11.587Z"
    },
    "collapsed": true
   },
   "outputs": [],
   "source": [
    "scores = model.evaluate(x_test, y_test, verbose=1)\n",
    "print('Test loss:', scores[0])\n",
    "print('Test accuracy:', scores[1])"
   ]
  }
 ],
 "metadata": {
  "kernelspec": {
   "display_name": "Python 3",
   "language": "python",
   "name": "python3"
  },
  "language_info": {
   "codemirror_mode": {
    "name": "ipython",
    "version": 3
   },
   "file_extension": ".py",
   "mimetype": "text/x-python",
   "name": "python",
   "nbconvert_exporter": "python",
   "pygments_lexer": "ipython3",
   "version": "3.5.4"
  }
 },
 "nbformat": 4,
 "nbformat_minor": 2
}
