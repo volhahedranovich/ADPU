{
 "cells": [
  {
   "cell_type": "code",
   "execution_count": 5,
   "metadata": {
    "collapsed": true
   },
   "outputs": [],
   "source": [
    "# operations with matrices\n",
    "import numpy as np\n",
    "\n",
    "# operations with dataframes\n",
    "import pandas as pd\n",
    "\n",
    "# plotting\n",
    "import matplotlib.pyplot as plt\n",
    "\n",
    "# use seaborn plotting defaults\n",
    "import seaborn as sns\n",
    "sns.set()\n",
    "\n",
    "# modeling\n",
    "# sklearn '0.19.1'\n",
    "from sklearn import cluster, datasets, mixture, decomposition, neighbors, preprocessing\n",
    "# scipy '1.0.0'\n",
    "from scipy import stats, cluster\n",
    "\n",
    "# for data generation\n",
    "from sklearn.datasets import load_digits, make_blobs\n",
    "\n",
    "# metrics\n",
    "from sklearn.metrics import accuracy_score, confusion_matrix, euclidean_distances\n",
    "\n",
    "# image processing\n",
    "import imageio\n",
    "\n",
    "# warnings handling\n",
    "import warnings\n",
    "\n",
    "# interactive demonstation\n",
    "from ipywidgets import interact, fixed, HTML"
   ]
  },
  {
   "cell_type": "code",
   "execution_count": 10,
   "metadata": {},
   "outputs": [
    {
     "data": {
      "text/plain": [
       "'0.19.1'"
      ]
     },
     "execution_count": 10,
     "metadata": {},
     "output_type": "execute_result"
    }
   ],
   "source": [
    "# To check a version\n",
    "import sklearn\n",
    "sklearn.__version__"
   ]
  },
  {
   "cell_type": "code",
   "execution_count": null,
   "metadata": {
    "collapsed": true
   },
   "outputs": [],
   "source": []
  }
 ],
 "metadata": {
  "kernelspec": {
   "display_name": "Python 3",
   "language": "python",
   "name": "python3"
  },
  "language_info": {
   "codemirror_mode": {
    "name": "ipython",
    "version": 3
   },
   "file_extension": ".py",
   "mimetype": "text/x-python",
   "name": "python",
   "nbconvert_exporter": "python",
   "pygments_lexer": "ipython3",
   "version": "3.4.5"
  }
 },
 "nbformat": 4,
 "nbformat_minor": 2
}
